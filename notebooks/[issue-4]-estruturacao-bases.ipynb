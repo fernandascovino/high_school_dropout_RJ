{
 "cells": [
  {
   "cell_type": "markdown",
   "metadata": {
    "toc": true
   },
   "source": [
    "<h1>Table of Contents<span class=\"tocSkip\"></span></h1>\n",
    "<div class=\"toc\"><ul class=\"toc-item\"><li><span><a href=\"#Taxa-de-Rendimento\" data-toc-modified-id=\"Taxa-de-Rendimento-1\"><span class=\"toc-item-num\">1&nbsp;&nbsp;</span>Taxa de Rendimento</a></span></li></ul></div>"
   ]
  },
  {
   "cell_type": "markdown",
   "metadata": {},
   "source": [
    "# Tratamento dos tipos das bases\n",
    "\n",
    "## Taxa de Rendimento"
   ]
  },
  {
   "cell_type": "code",
   "execution_count": 24,
   "metadata": {},
   "outputs": [],
   "source": [
    "columns = \"\"\"ANO\n",
    "CO_ENTIDADE\n",
    "CO_MUNICIPIO\n",
    "DEPENDAD\n",
    "NO_ENTIDADE\n",
    "NO_MUNICIPIO\n",
    "NO_REGIAO\n",
    "SG_UF\n",
    "TAB_F00\n",
    "TAB_F01\n",
    "TAB_F02\n",
    "TAB_F03\n",
    "TAB_F04\n",
    "TAB_F05\n",
    "TAB_F06\n",
    "TAB_F07\n",
    "TAB_F08\n",
    "TAB_F14\n",
    "TAB_F58\n",
    "TAB_FUN\n",
    "TAB_M01\n",
    "TAB_M02\n",
    "TAB_M03\n",
    "TAB_M04\n",
    "TAB_MED\n",
    "TAB_MNS\n",
    "TAP_F00\n",
    "TAP_F01\n",
    "TAP_F02\n",
    "TAP_F03\n",
    "TAP_F04\n",
    "TAP_F05\n",
    "TAP_F06\n",
    "TAP_F07\n",
    "TAP_F08\n",
    "TAP_F14\n",
    "TAP_F58\n",
    "TAP_FUN\n",
    "TAP_M01\n",
    "TAP_M02\n",
    "TAP_M03\n",
    "TAP_M04\n",
    "TAP_MED\n",
    "TAP_MNS\n",
    "TIPOLOCA\n",
    "TRE_F00\n",
    "TRE_F01\n",
    "TRE_F02\n",
    "TRE_F03\n",
    "TRE_F04\n",
    "TRE_F05\n",
    "TRE_F06\n",
    "TRE_F07\n",
    "TRE_F08\n",
    "TRE_F14\n",
    "TRE_F58\n",
    "TRE_FUN\n",
    "TRE_M01\n",
    "TRE_M02\n",
    "TRE_M03\n",
    "TRE_M04\n",
    "TRE_MED\n",
    "TRE_MNS\"\"\""
   ]
  },
  {
   "cell_type": "code",
   "execution_count": 25,
   "metadata": {},
   "outputs": [],
   "source": [
    "columns = columns.split('\\n')\n",
    "\n",
    "types = []\n",
    "for s in columns:\n",
    "    \n",
    "    initial = 'CAST('+s\n",
    "    \n",
    "    if s == 'ANO':\n",
    "        types.append(initial+' as INT64) as {}'.format(s))\n",
    "    elif s.startswith('NO') or s.startswith('SG'):\n",
    "        types.append('UPPER('+initial+' as STRING)) as {}'.format(s))\n",
    "    elif s == 'TIPOLOCA':\n",
    "        types.append(initial+' as STRING) as TP_LOCAL')\n",
    "    elif s == 'DEPENDAD':\n",
    "        types.append(initial+' as STRING) as TP_DEPENDAD')\n",
    "    elif s.startswith('CO'):\n",
    "        types.append('CAST('+initial+' as FLOAT64) as INT64) as {}'.format(s))\n",
    "    else:\n",
    "        types.append(initial+' as FLOAT64) as {}'.format(s))\n",
    "\n",
    "types = ', '.join(types)"
   ]
  },
  {
   "cell_type": "code",
   "execution_count": 26,
   "metadata": {},
   "outputs": [
    {
     "data": {
      "text/plain": [
       "'CAST(ANO as INT64) as ANO, CAST(CAST(CO_ENTIDADE as FLOAT64) as INT64) as CO_ENTIDADE, CAST(CAST(CO_MUNICIPIO as FLOAT64) as INT64) as CO_MUNICIPIO, CAST(DEPENDAD as STRING) as TP_DEPENDAD, UPPER(CAST(NO_ENTIDADE as STRING)) as NO_ENTIDADE, UPPER(CAST(NO_MUNICIPIO as STRING)) as NO_MUNICIPIO, UPPER(CAST(NO_REGIAO as STRING)) as NO_REGIAO, UPPER(CAST(SG_UF as STRING)) as SG_UF, CAST(TAB_F00 as FLOAT64) as TAB_F00, CAST(TAB_F01 as FLOAT64) as TAB_F01, CAST(TAB_F02 as FLOAT64) as TAB_F02, CAST(TAB_F03 as FLOAT64) as TAB_F03, CAST(TAB_F04 as FLOAT64) as TAB_F04, CAST(TAB_F05 as FLOAT64) as TAB_F05, CAST(TAB_F06 as FLOAT64) as TAB_F06, CAST(TAB_F07 as FLOAT64) as TAB_F07, CAST(TAB_F08 as FLOAT64) as TAB_F08, CAST(TAB_F14 as FLOAT64) as TAB_F14, CAST(TAB_F58 as FLOAT64) as TAB_F58, CAST(TAB_FUN as FLOAT64) as TAB_FUN, CAST(TAB_M01 as FLOAT64) as TAB_M01, CAST(TAB_M02 as FLOAT64) as TAB_M02, CAST(TAB_M03 as FLOAT64) as TAB_M03, CAST(TAB_M04 as FLOAT64) as TAB_M04, CAST(TAB_MED as FLOAT64) as TAB_MED, CAST(TAB_MNS as FLOAT64) as TAB_MNS, CAST(TAP_F00 as FLOAT64) as TAP_F00, CAST(TAP_F01 as FLOAT64) as TAP_F01, CAST(TAP_F02 as FLOAT64) as TAP_F02, CAST(TAP_F03 as FLOAT64) as TAP_F03, CAST(TAP_F04 as FLOAT64) as TAP_F04, CAST(TAP_F05 as FLOAT64) as TAP_F05, CAST(TAP_F06 as FLOAT64) as TAP_F06, CAST(TAP_F07 as FLOAT64) as TAP_F07, CAST(TAP_F08 as FLOAT64) as TAP_F08, CAST(TAP_F14 as FLOAT64) as TAP_F14, CAST(TAP_F58 as FLOAT64) as TAP_F58, CAST(TAP_FUN as FLOAT64) as TAP_FUN, CAST(TAP_M01 as FLOAT64) as TAP_M01, CAST(TAP_M02 as FLOAT64) as TAP_M02, CAST(TAP_M03 as FLOAT64) as TAP_M03, CAST(TAP_M04 as FLOAT64) as TAP_M04, CAST(TAP_MED as FLOAT64) as TAP_MED, CAST(TAP_MNS as FLOAT64) as TAP_MNS, CAST(TIPOLOCA as STRING) as TP_LOCAL, CAST(TRE_F00 as FLOAT64) as TRE_F00, CAST(TRE_F01 as FLOAT64) as TRE_F01, CAST(TRE_F02 as FLOAT64) as TRE_F02, CAST(TRE_F03 as FLOAT64) as TRE_F03, CAST(TRE_F04 as FLOAT64) as TRE_F04, CAST(TRE_F05 as FLOAT64) as TRE_F05, CAST(TRE_F06 as FLOAT64) as TRE_F06, CAST(TRE_F07 as FLOAT64) as TRE_F07, CAST(TRE_F08 as FLOAT64) as TRE_F08, CAST(TRE_F14 as FLOAT64) as TRE_F14, CAST(TRE_F58 as FLOAT64) as TRE_F58, CAST(TRE_FUN as FLOAT64) as TRE_FUN, CAST(TRE_M01 as FLOAT64) as TRE_M01, CAST(TRE_M02 as FLOAT64) as TRE_M02, CAST(TRE_M03 as FLOAT64) as TRE_M03, CAST(TRE_M04 as FLOAT64) as TRE_M04, CAST(TRE_MED as FLOAT64) as TRE_MED, CAST(TRE_MNS as FLOAT64) as TRE_MNS'"
      ]
     },
     "execution_count": 26,
     "metadata": {},
     "output_type": "execute_result"
    }
   ],
   "source": [
    "types"
   ]
  },
  {
   "cell_type": "code",
   "execution_count": null,
   "metadata": {},
   "outputs": [],
   "source": []
  }
 ],
 "metadata": {
  "kernelspec": {
   "display_name": "Python 3",
   "language": "python",
   "name": "python3"
  },
  "language_info": {
   "codemirror_mode": {
    "name": "ipython",
    "version": 3
   },
   "file_extension": ".py",
   "mimetype": "text/x-python",
   "name": "python",
   "nbconvert_exporter": "python",
   "pygments_lexer": "ipython3",
   "version": "3.7.4"
  },
  "toc": {
   "base_numbering": 1,
   "nav_menu": {},
   "number_sections": true,
   "sideBar": true,
   "skip_h1_title": true,
   "title_cell": "Table of Contents",
   "title_sidebar": "Contents",
   "toc_cell": true,
   "toc_position": {},
   "toc_section_display": true,
   "toc_window_display": false
  }
 },
 "nbformat": 4,
 "nbformat_minor": 2
}
